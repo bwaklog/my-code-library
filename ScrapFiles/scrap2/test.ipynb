{
 "cells": [
  {
   "cell_type": "code",
   "execution_count": 11,
   "metadata": {},
   "outputs": [
    {
     "name": "stdout",
     "output_type": "stream",
     "text": [
      "['a', 'e', 'h', 'r', 't', 'y'] ['a', 'e', 'h', 'r', 's', 't', 'y']\n",
      "aehrsty\n"
     ]
    }
   ],
   "source": [
    "def longest(a1, a2):\n",
    "    an = []\n",
    "    [an.append(i) for i in a1 if i not in an]\n",
    "    bn = []\n",
    "    [bn.append(i) for i in a2 if i not in bn]\n",
    "    print(sorted(an), sorted(bn))\n",
    "\n",
    "    new = an + bn\n",
    "    nl = []\n",
    "    [nl.append(i) for i in new if i not in nl]\n",
    "    print(\"\".join(sorted(nl)))\n",
    "\n",
    "\n",
    "longest(\"aretheyhere\", \"yestheyarehere\")"
   ]
  },
  {
   "cell_type": "code",
   "execution_count": 12,
   "metadata": {},
   "outputs": [
    {
     "data": {
      "text/plain": [
       "0"
      ]
     },
     "execution_count": 12,
     "metadata": {},
     "output_type": "execute_result"
    }
   ],
   "source": [
    "len('')"
   ]
  }
 ],
 "metadata": {
  "kernelspec": {
   "display_name": "Python 3.9.10 64-bit",
   "language": "python",
   "name": "python3"
  },
  "language_info": {
   "codemirror_mode": {
    "name": "ipython",
    "version": 3
   },
   "file_extension": ".py",
   "mimetype": "text/x-python",
   "name": "python",
   "nbconvert_exporter": "python",
   "pygments_lexer": "ipython3",
   "version": "3.9.10"
  },
  "orig_nbformat": 4,
  "vscode": {
   "interpreter": {
    "hash": "b0fa6594d8f4cbf19f97940f81e996739fb7646882a419484c72d19e05852a7e"
   }
  }
 },
 "nbformat": 4,
 "nbformat_minor": 2
}
