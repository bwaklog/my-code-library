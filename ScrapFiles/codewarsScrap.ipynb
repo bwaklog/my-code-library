{
 "cells": [
  {
   "cell_type": "code",
   "execution_count": 1,
   "metadata": {},
   "outputs": [
    {
     "name": "stdout",
     "output_type": "stream",
     "text": [
      "128.32.10.1\n"
     ]
    }
   ],
   "source": [
    "import ipaddress\n",
    "\n",
    "def int32_to_ip(int32):\n",
    "    # your code here\n",
    "    return str(ipaddress.IPv4Address(int32))\n",
    "\n",
    "print(int32_to_ip(2149583361))\n"
   ]
  },
  {
   "cell_type": "code",
   "execution_count": 14,
   "metadata": {},
   "outputs": [
    {
     "name": "stdout",
     "output_type": "stream",
     "text": [
      "code-wars\n",
      "s-o-s\n",
      "my-camel-has-humps\n",
      "\n",
      "my-camel-cased-string\n"
     ]
    }
   ],
   "source": [
    "def kebabize(string):\n",
    "    if string[0].isdigit():\n",
    "        res = ''\n",
    "    else:\n",
    "        res = string[0].lower()\n",
    "    for i in string[1::]:\n",
    "        if i.isupper():\n",
    "            res = res + '-' + i.lower()\n",
    "        elif i.isdigit():\n",
    "            res += ''\n",
    "        else:\n",
    "            res = res + i\n",
    "    if len(res) >0:\n",
    "        return res if res[0] != '-' else res[1::]\n",
    "    else:\n",
    "        return res\n",
    "\n",
    "print(kebabize('CodeWars'))\n",
    "print(kebabize('SOS'))\n",
    "print(kebabize('myCamelHas3Humps'))\n",
    "print(kebabize('42'))\n",
    "print(kebabize('myCamelCasedString'))"
   ]
  },
  {
   "cell_type": "code",
   "execution_count": null,
   "metadata": {},
   "outputs": [],
   "source": [
    "def kebabize(string):\n",
    "    \n",
    "\n",
    "print(kebabize('CodeWars'))\n",
    "print(kebabize('SOS'))\n",
    "print(kebabize('myCamelHas3Humps'))\n",
    "print(kebabize('42'))\n",
    "print(kebabize('myCamelCasedString'))"
   ]
  },
  {
   "cell_type": "code",
   "execution_count": 19,
   "metadata": {},
   "outputs": [
    {
     "name": "stdout",
     "output_type": "stream",
     "text": [
      "valid email\n"
     ]
    }
   ],
   "source": [
    "import re\n",
    "\n",
    "pattern = \"[a-zA-Z0-9]+@[a-zA-Z]+\\.[com|edu|net]\"\n",
    "user_input = input()\n",
    "if(re.search(pattern, user_input)):\n",
    "    print('valid email')\n",
    "else:\n",
    "    print('invalid email')"
   ]
  },
  {
   "cell_type": "code",
   "execution_count": 24,
   "metadata": {},
   "outputs": [
    {
     "name": "stdout",
     "output_type": "stream",
     "text": [
      "['aabb', 'bbaa']\n"
     ]
    }
   ],
   "source": [
    "def anagrams(word, words):\n",
    "    anagramList = []\n",
    "    for i in words:\n",
    "        if sorted(word) == sorted(i):\n",
    "            anagramList.append(i)\n",
    "    return anagramList\n",
    "\n",
    "print(anagrams('abba', ['aabb', 'abcd', 'bbaa', 'dada']))"
   ]
  },
  {
   "cell_type": "code",
   "execution_count": null,
   "metadata": {},
   "outputs": [],
   "source": [
    "def convert(string):\n",
    "    base = {'one':1, 'two':2, 'three':3, 'four':4, 'five':5,\n",
    "    'six':6, 'seven':7, 'eight':8, 'nine':9, 'ten':10, 'eleven':11,\n",
    "    'twelve':12, 'thirteen':13, 'fourteen':14, 'fifteen':15, 'sixteen':16,\n",
    "    'seventeen':17 ,'eighteen':18, 'nineteen':19, 'twenty':20}\n",
    "\n",
    "    greater = {'twenty':20, 'thirty':30, 'fourty':40, 'fifty':50, 'sixty':60, 'seventy':70, 'eighty':80, 'ninety':90}\n",
    "    if '-' in string:\n",
    "        string = string.split('-')\n",
    "        res = greater[string[0]] + base[string[1]]\n",
    "    else:\n",
    "        res = base[string]\n",
    "    return res\n",
    "\n",
    "def parseInt(string):\n",
    "    if 'hundred' in string:\n",
    "        string = string.split('hundred')\n",
    "        bh = string.pop()\n",
    "        belowHundred = convert(bh.strip(' '))\n",
    "        string = string[0]\n",
    "\n",
    "        if 'thousand' in string[0]:\n",
    "            string = string.split('thousand')\n",
    "            bh = string.pop()\n",
    "            hundredsValue = convert(bh.strip(' '))\n",
    "            string = string[0]\n",
    "\n",
    "            if 'hundred' in string[0]:\n",
    "                string = string.split('thousand')\n",
    "                bh = string.pop()\n",
    "                hThousandValue = convert(bh.strip(' '))\n",
    "                string = string[0]\n",
    "            \n",
    "            else:\n",
    "                final = convert(string.strip(' ')) * 1000 + hundredsValue + belowHundred\n",
    "\n",
    "        else:\n",
    "            final = convert(string.strip(' '))*100 + belowHundred\n",
    "            return final\n",
    "\n",
    "    else:\n",
    "        final = convert(string.strip(' '))\n",
    "        return final\n",
    "\n",
    "print(parseInt('two hundred fourty-six'))\n",
    "print(parseInt('eighty-eight'))\n",
    "print(parseInt('twenty thousand two hundred twenty-four'))"
   ]
  },
  {
   "cell_type": "code",
   "execution_count": null,
   "metadata": {},
   "outputs": [],
   "source": [
    "import numpy as np\n"
   ]
  }
 ],
 "metadata": {
  "interpreter": {
   "hash": "b0fa6594d8f4cbf19f97940f81e996739fb7646882a419484c72d19e05852a7e"
  },
  "kernelspec": {
   "display_name": "Python 3.9.10 64-bit",
   "language": "python",
   "name": "python3"
  },
  "language_info": {
   "codemirror_mode": {
    "name": "ipython",
    "version": 3
   },
   "file_extension": ".py",
   "mimetype": "text/x-python",
   "name": "python",
   "nbconvert_exporter": "python",
   "pygments_lexer": "ipython3",
   "version": "3.9.10"
  },
  "orig_nbformat": 4
 },
 "nbformat": 4,
 "nbformat_minor": 2
}
